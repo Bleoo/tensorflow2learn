{
 "cells": [
  {
   "cell_type": "code",
   "execution_count": 1,
   "metadata": {},
   "outputs": [],
   "source": [
    "import tensorflow as tf;"
   ]
  },
  {
   "cell_type": "code",
   "execution_count": 2,
   "metadata": {},
   "outputs": [],
   "source": [
    "import pandas as pd\n",
    "import numpy as np\n",
    "import matplotlib.pyplot as plt\n",
    "%matplotlib inline"
   ]
  },
  {
   "cell_type": "code",
   "execution_count": 3,
   "metadata": {},
   "outputs": [],
   "source": [
    "data = pd.read_csv('./credit-a.csv', header=None)"
   ]
  },
  {
   "cell_type": "code",
   "execution_count": 4,
   "metadata": {},
   "outputs": [
    {
     "data": {
      "text/html": [
       "<div>\n",
       "<style scoped>\n",
       "    .dataframe tbody tr th:only-of-type {\n",
       "        vertical-align: middle;\n",
       "    }\n",
       "\n",
       "    .dataframe tbody tr th {\n",
       "        vertical-align: top;\n",
       "    }\n",
       "\n",
       "    .dataframe thead th {\n",
       "        text-align: right;\n",
       "    }\n",
       "</style>\n",
       "<table border=\"1\" class=\"dataframe\">\n",
       "  <thead>\n",
       "    <tr style=\"text-align: right;\">\n",
       "      <th></th>\n",
       "      <th>0</th>\n",
       "      <th>1</th>\n",
       "      <th>2</th>\n",
       "      <th>3</th>\n",
       "      <th>4</th>\n",
       "      <th>5</th>\n",
       "      <th>6</th>\n",
       "      <th>7</th>\n",
       "      <th>8</th>\n",
       "      <th>9</th>\n",
       "      <th>10</th>\n",
       "      <th>11</th>\n",
       "      <th>12</th>\n",
       "      <th>13</th>\n",
       "    </tr>\n",
       "  </thead>\n",
       "  <tbody>\n",
       "    <tr>\n",
       "      <td>0</td>\n",
       "      <td>0</td>\n",
       "      <td>30.83</td>\n",
       "      <td>0.000</td>\n",
       "      <td>0</td>\n",
       "      <td>0</td>\n",
       "      <td>1.25</td>\n",
       "      <td>1</td>\n",
       "      <td>1</td>\n",
       "      <td>1</td>\n",
       "      <td>0</td>\n",
       "      <td>0</td>\n",
       "      <td>202</td>\n",
       "      <td>0</td>\n",
       "      <td>1</td>\n",
       "    </tr>\n",
       "    <tr>\n",
       "      <td>1</td>\n",
       "      <td>1</td>\n",
       "      <td>58.67</td>\n",
       "      <td>4.460</td>\n",
       "      <td>0</td>\n",
       "      <td>0</td>\n",
       "      <td>3.04</td>\n",
       "      <td>1</td>\n",
       "      <td>1</td>\n",
       "      <td>6</td>\n",
       "      <td>0</td>\n",
       "      <td>0</td>\n",
       "      <td>43</td>\n",
       "      <td>560</td>\n",
       "      <td>1</td>\n",
       "    </tr>\n",
       "    <tr>\n",
       "      <td>2</td>\n",
       "      <td>1</td>\n",
       "      <td>24.50</td>\n",
       "      <td>0.500</td>\n",
       "      <td>0</td>\n",
       "      <td>0</td>\n",
       "      <td>1.50</td>\n",
       "      <td>1</td>\n",
       "      <td>0</td>\n",
       "      <td>0</td>\n",
       "      <td>0</td>\n",
       "      <td>0</td>\n",
       "      <td>280</td>\n",
       "      <td>824</td>\n",
       "      <td>1</td>\n",
       "    </tr>\n",
       "    <tr>\n",
       "      <td>3</td>\n",
       "      <td>0</td>\n",
       "      <td>27.83</td>\n",
       "      <td>1.540</td>\n",
       "      <td>0</td>\n",
       "      <td>0</td>\n",
       "      <td>3.75</td>\n",
       "      <td>1</td>\n",
       "      <td>1</td>\n",
       "      <td>5</td>\n",
       "      <td>1</td>\n",
       "      <td>0</td>\n",
       "      <td>100</td>\n",
       "      <td>3</td>\n",
       "      <td>1</td>\n",
       "    </tr>\n",
       "    <tr>\n",
       "      <td>4</td>\n",
       "      <td>0</td>\n",
       "      <td>20.17</td>\n",
       "      <td>5.625</td>\n",
       "      <td>0</td>\n",
       "      <td>0</td>\n",
       "      <td>1.71</td>\n",
       "      <td>1</td>\n",
       "      <td>0</td>\n",
       "      <td>0</td>\n",
       "      <td>0</td>\n",
       "      <td>1</td>\n",
       "      <td>120</td>\n",
       "      <td>0</td>\n",
       "      <td>1</td>\n",
       "    </tr>\n",
       "    <tr>\n",
       "      <td>...</td>\n",
       "      <td>...</td>\n",
       "      <td>...</td>\n",
       "      <td>...</td>\n",
       "      <td>...</td>\n",
       "      <td>...</td>\n",
       "      <td>...</td>\n",
       "      <td>...</td>\n",
       "      <td>...</td>\n",
       "      <td>...</td>\n",
       "      <td>...</td>\n",
       "      <td>...</td>\n",
       "      <td>...</td>\n",
       "      <td>...</td>\n",
       "      <td>...</td>\n",
       "    </tr>\n",
       "    <tr>\n",
       "      <td>685</td>\n",
       "      <td>0</td>\n",
       "      <td>21.08</td>\n",
       "      <td>10.085</td>\n",
       "      <td>1</td>\n",
       "      <td>1</td>\n",
       "      <td>1.25</td>\n",
       "      <td>0</td>\n",
       "      <td>0</td>\n",
       "      <td>0</td>\n",
       "      <td>0</td>\n",
       "      <td>0</td>\n",
       "      <td>260</td>\n",
       "      <td>0</td>\n",
       "      <td>0</td>\n",
       "    </tr>\n",
       "    <tr>\n",
       "      <td>686</td>\n",
       "      <td>1</td>\n",
       "      <td>22.67</td>\n",
       "      <td>0.750</td>\n",
       "      <td>0</td>\n",
       "      <td>0</td>\n",
       "      <td>2.00</td>\n",
       "      <td>0</td>\n",
       "      <td>1</td>\n",
       "      <td>2</td>\n",
       "      <td>1</td>\n",
       "      <td>0</td>\n",
       "      <td>200</td>\n",
       "      <td>394</td>\n",
       "      <td>0</td>\n",
       "    </tr>\n",
       "    <tr>\n",
       "      <td>687</td>\n",
       "      <td>1</td>\n",
       "      <td>25.25</td>\n",
       "      <td>13.500</td>\n",
       "      <td>1</td>\n",
       "      <td>1</td>\n",
       "      <td>2.00</td>\n",
       "      <td>0</td>\n",
       "      <td>1</td>\n",
       "      <td>1</td>\n",
       "      <td>1</td>\n",
       "      <td>0</td>\n",
       "      <td>200</td>\n",
       "      <td>1</td>\n",
       "      <td>0</td>\n",
       "    </tr>\n",
       "    <tr>\n",
       "      <td>688</td>\n",
       "      <td>0</td>\n",
       "      <td>17.92</td>\n",
       "      <td>0.205</td>\n",
       "      <td>0</td>\n",
       "      <td>0</td>\n",
       "      <td>0.04</td>\n",
       "      <td>0</td>\n",
       "      <td>0</td>\n",
       "      <td>0</td>\n",
       "      <td>0</td>\n",
       "      <td>0</td>\n",
       "      <td>280</td>\n",
       "      <td>750</td>\n",
       "      <td>0</td>\n",
       "    </tr>\n",
       "    <tr>\n",
       "      <td>689</td>\n",
       "      <td>0</td>\n",
       "      <td>35.00</td>\n",
       "      <td>3.375</td>\n",
       "      <td>0</td>\n",
       "      <td>0</td>\n",
       "      <td>8.29</td>\n",
       "      <td>0</td>\n",
       "      <td>0</td>\n",
       "      <td>0</td>\n",
       "      <td>1</td>\n",
       "      <td>0</td>\n",
       "      <td>0</td>\n",
       "      <td>0</td>\n",
       "      <td>0</td>\n",
       "    </tr>\n",
       "  </tbody>\n",
       "</table>\n",
       "<p>690 rows × 14 columns</p>\n",
       "</div>"
      ],
      "text/plain": [
       "     0      1       2   3   4     5   6   7   8   9   10   11   12  13\n",
       "0     0  30.83   0.000   0   0  1.25   1   1   1   0   0  202    0   1\n",
       "1     1  58.67   4.460   0   0  3.04   1   1   6   0   0   43  560   1\n",
       "2     1  24.50   0.500   0   0  1.50   1   0   0   0   0  280  824   1\n",
       "3     0  27.83   1.540   0   0  3.75   1   1   5   1   0  100    3   1\n",
       "4     0  20.17   5.625   0   0  1.71   1   0   0   0   1  120    0   1\n",
       "..   ..    ...     ...  ..  ..   ...  ..  ..  ..  ..  ..  ...  ...  ..\n",
       "685   0  21.08  10.085   1   1  1.25   0   0   0   0   0  260    0   0\n",
       "686   1  22.67   0.750   0   0  2.00   0   1   2   1   0  200  394   0\n",
       "687   1  25.25  13.500   1   1  2.00   0   1   1   1   0  200    1   0\n",
       "688   0  17.92   0.205   0   0  0.04   0   0   0   0   0  280  750   0\n",
       "689   0  35.00   3.375   0   0  8.29   0   0   0   1   0    0    0   0\n",
       "\n",
       "[690 rows x 14 columns]"
      ]
     },
     "execution_count": 4,
     "metadata": {},
     "output_type": "execute_result"
    }
   ],
   "source": [
    "data"
   ]
  },
  {
   "cell_type": "code",
   "execution_count": 5,
   "metadata": {},
   "outputs": [
    {
     "data": {
      "text/plain": [
       "0    383\n",
       "1    307\n",
       "Name: 13, dtype: int64"
      ]
     },
     "execution_count": 5,
     "metadata": {},
     "output_type": "execute_result"
    }
   ],
   "source": [
    "data.iloc[:, -1].value_counts()"
   ]
  },
  {
   "cell_type": "code",
   "execution_count": 6,
   "metadata": {
    "scrolled": true
   },
   "outputs": [],
   "source": [
    "x = data.iloc[:, :-1]\n",
    "y = data.iloc[:, -1]"
   ]
  },
  {
   "cell_type": "code",
   "execution_count": 7,
   "metadata": {},
   "outputs": [],
   "source": [
    "model = tf.keras.Sequential()"
   ]
  },
  {
   "cell_type": "code",
   "execution_count": 8,
   "metadata": {},
   "outputs": [],
   "source": [
    "model.add(tf.keras.layers.Dense(4, input_shape=(13,), activation='relu'))\n",
    "model.add(tf.keras.layers.Dense(4, activation='relu'))\n",
    "model.add(tf.keras.layers.Dense(1, activation='sigmoid'))"
   ]
  },
  {
   "cell_type": "code",
   "execution_count": 9,
   "metadata": {},
   "outputs": [
    {
     "name": "stdout",
     "output_type": "stream",
     "text": [
      "Model: \"sequential\"\n",
      "_________________________________________________________________\n",
      "Layer (type)                 Output Shape              Param #   \n",
      "=================================================================\n",
      "dense (Dense)                (None, 4)                 56        \n",
      "_________________________________________________________________\n",
      "dense_1 (Dense)              (None, 4)                 20        \n",
      "_________________________________________________________________\n",
      "dense_2 (Dense)              (None, 1)                 5         \n",
      "=================================================================\n",
      "Total params: 81\n",
      "Trainable params: 81\n",
      "Non-trainable params: 0\n",
      "_________________________________________________________________\n"
     ]
    }
   ],
   "source": [
    "model.summary()"
   ]
  },
  {
   "cell_type": "code",
   "execution_count": 10,
   "metadata": {},
   "outputs": [],
   "source": [
    "model.compile(\n",
    "    optimizer='adam', \n",
    "    loss='binary_crossentropy',\n",
    "    metrics=['acc']\n",
    ")"
   ]
  },
  {
   "cell_type": "code",
   "execution_count": 12,
   "metadata": {},
   "outputs": [
    {
     "name": "stdout",
     "output_type": "stream",
     "text": [
      "Train on 690 samples\n",
      "Epoch 1/100\n",
      "690/690 [==============================] - 0s 572us/sample - loss: 4.3130 - acc: 0.3580\n",
      "Epoch 2/100\n",
      "690/690 [==============================] - 0s 30us/sample - loss: 2.9096 - acc: 0.3551\n",
      "Epoch 3/100\n",
      "690/690 [==============================] - 0s 29us/sample - loss: 1.9035 - acc: 0.3739\n",
      "Epoch 4/100\n",
      "690/690 [==============================] - 0s 29us/sample - loss: 1.3680 - acc: 0.4116\n",
      "Epoch 5/100\n",
      "690/690 [==============================] - 0s 32us/sample - loss: 1.1709 - acc: 0.4420\n",
      "Epoch 6/100\n",
      "690/690 [==============================] - 0s 30us/sample - loss: 1.0792 - acc: 0.4710\n",
      "Epoch 7/100\n",
      "690/690 [==============================] - 0s 29us/sample - loss: 1.0261 - acc: 0.4855\n",
      "Epoch 8/100\n",
      "690/690 [==============================] - 0s 30us/sample - loss: 0.9810 - acc: 0.5058\n",
      "Epoch 9/100\n",
      "690/690 [==============================] - 0s 31us/sample - loss: 0.9448 - acc: 0.5246\n",
      "Epoch 10/100\n",
      "690/690 [==============================] - 0s 29us/sample - loss: 0.9186 - acc: 0.5348\n",
      "Epoch 11/100\n",
      "690/690 [==============================] - 0s 29us/sample - loss: 0.8900 - acc: 0.5333\n",
      "Epoch 12/100\n",
      "690/690 [==============================] - 0s 30us/sample - loss: 0.8688 - acc: 0.5377\n",
      "Epoch 13/100\n",
      "690/690 [==============================] - 0s 30us/sample - loss: 0.8485 - acc: 0.5464\n",
      "Epoch 14/100\n",
      "690/690 [==============================] - 0s 30us/sample - loss: 0.8287 - acc: 0.5493\n",
      "Epoch 15/100\n",
      "690/690 [==============================] - 0s 30us/sample - loss: 0.8115 - acc: 0.5536\n",
      "Epoch 16/100\n",
      "690/690 [==============================] - 0s 32us/sample - loss: 0.7951 - acc: 0.5565\n",
      "Epoch 17/100\n",
      "690/690 [==============================] - 0s 29us/sample - loss: 0.7830 - acc: 0.5580\n",
      "Epoch 18/100\n",
      "690/690 [==============================] - 0s 30us/sample - loss: 0.7702 - acc: 0.5594\n",
      "Epoch 19/100\n",
      "690/690 [==============================] - 0s 30us/sample - loss: 0.7592 - acc: 0.5623\n",
      "Epoch 20/100\n",
      "690/690 [==============================] - 0s 30us/sample - loss: 0.7497 - acc: 0.5609\n",
      "Epoch 21/100\n",
      "690/690 [==============================] - 0s 30us/sample - loss: 0.7430 - acc: 0.5609\n",
      "Epoch 22/100\n",
      "690/690 [==============================] - 0s 30us/sample - loss: 0.7364 - acc: 0.5638\n",
      "Epoch 23/100\n",
      "690/690 [==============================] - 0s 30us/sample - loss: 0.7304 - acc: 0.5638\n",
      "Epoch 24/100\n",
      "690/690 [==============================] - 0s 32us/sample - loss: 0.7258 - acc: 0.5623\n",
      "Epoch 25/100\n",
      "690/690 [==============================] - 0s 30us/sample - loss: 0.7215 - acc: 0.5623\n",
      "Epoch 26/100\n",
      "690/690 [==============================] - ETA: 0s - loss: 0.6590 - acc: 0.625 - 0s 29us/sample - loss: 0.7178 - acc: 0.5594\n",
      "Epoch 27/100\n",
      "690/690 [==============================] - 0s 30us/sample - loss: 0.7149 - acc: 0.5594\n",
      "Epoch 28/100\n",
      "690/690 [==============================] - 0s 29us/sample - loss: 0.7114 - acc: 0.5580\n",
      "Epoch 29/100\n",
      "690/690 [==============================] - 0s 42us/sample - loss: 0.7088 - acc: 0.5609\n",
      "Epoch 30/100\n",
      "690/690 [==============================] - 0s 32us/sample - loss: 0.7066 - acc: 0.5609\n",
      "Epoch 31/100\n",
      "690/690 [==============================] - 0s 29us/sample - loss: 0.7040 - acc: 0.5623\n",
      "Epoch 32/100\n",
      "690/690 [==============================] - 0s 32us/sample - loss: 0.7019 - acc: 0.5623\n",
      "Epoch 33/100\n",
      "690/690 [==============================] - 0s 30us/sample - loss: 0.7001 - acc: 0.5609\n",
      "Epoch 34/100\n",
      "690/690 [==============================] - 0s 29us/sample - loss: 0.6985 - acc: 0.5638\n",
      "Epoch 35/100\n",
      "690/690 [==============================] - 0s 30us/sample - loss: 0.6966 - acc: 0.5638\n",
      "Epoch 36/100\n",
      "690/690 [==============================] - 0s 32us/sample - loss: 0.6955 - acc: 0.5681\n",
      "Epoch 37/100\n",
      "690/690 [==============================] - 0s 30us/sample - loss: 0.6940 - acc: 0.5696\n",
      "Epoch 38/100\n",
      "690/690 [==============================] - 0s 29us/sample - loss: 0.6931 - acc: 0.5696\n",
      "Epoch 39/100\n",
      "690/690 [==============================] - 0s 30us/sample - loss: 0.6922 - acc: 0.5696\n",
      "Epoch 40/100\n",
      "690/690 [==============================] - 0s 30us/sample - loss: 0.6915 - acc: 0.5696\n",
      "Epoch 41/100\n",
      "690/690 [==============================] - 0s 29us/sample - loss: 0.6909 - acc: 0.5696\n",
      "Epoch 42/100\n",
      "690/690 [==============================] - 0s 29us/sample - loss: 0.6900 - acc: 0.5696\n",
      "Epoch 43/100\n",
      "690/690 [==============================] - 0s 30us/sample - loss: 0.6895 - acc: 0.5696\n",
      "Epoch 44/100\n",
      "690/690 [==============================] - 0s 27us/sample - loss: 0.6889 - acc: 0.5696\n",
      "Epoch 45/100\n",
      "690/690 [==============================] - 0s 29us/sample - loss: 0.6884 - acc: 0.5696\n",
      "Epoch 46/100\n",
      "690/690 [==============================] - 0s 29us/sample - loss: 0.6879 - acc: 0.5710\n",
      "Epoch 47/100\n",
      "690/690 [==============================] - 0s 31us/sample - loss: 0.6874 - acc: 0.5710\n",
      "Epoch 48/100\n",
      "690/690 [==============================] - 0s 29us/sample - loss: 0.6870 - acc: 0.5710\n",
      "Epoch 49/100\n",
      "690/690 [==============================] - 0s 27us/sample - loss: 0.6865 - acc: 0.5725\n",
      "Epoch 50/100\n",
      "690/690 [==============================] - 0s 30us/sample - loss: 0.6861 - acc: 0.5725\n",
      "Epoch 51/100\n",
      "690/690 [==============================] - 0s 35us/sample - loss: 0.6857 - acc: 0.5725\n",
      "Epoch 52/100\n",
      "690/690 [==============================] - 0s 35us/sample - loss: 0.6851 - acc: 0.5739\n",
      "Epoch 53/100\n",
      "690/690 [==============================] - 0s 35us/sample - loss: 0.6849 - acc: 0.5739\n",
      "Epoch 54/100\n",
      "690/690 [==============================] - 0s 30us/sample - loss: 0.6845 - acc: 0.5739\n",
      "Epoch 55/100\n",
      "690/690 [==============================] - 0s 29us/sample - loss: 0.6841 - acc: 0.5754\n",
      "Epoch 56/100\n",
      "690/690 [==============================] - 0s 29us/sample - loss: 0.6837 - acc: 0.5754\n",
      "Epoch 57/100\n",
      "690/690 [==============================] - 0s 27us/sample - loss: 0.6834 - acc: 0.5768\n",
      "Epoch 58/100\n",
      "690/690 [==============================] - 0s 27us/sample - loss: 0.6831 - acc: 0.5768\n",
      "Epoch 59/100\n",
      "690/690 [==============================] - 0s 29us/sample - loss: 0.6826 - acc: 0.5768\n",
      "Epoch 60/100\n",
      "690/690 [==============================] - 0s 29us/sample - loss: 0.6822 - acc: 0.5783\n",
      "Epoch 61/100\n",
      "690/690 [==============================] - 0s 29us/sample - loss: 0.6818 - acc: 0.5797\n",
      "Epoch 62/100\n",
      "690/690 [==============================] - 0s 27us/sample - loss: 0.6814 - acc: 0.5812\n",
      "Epoch 63/100\n",
      "690/690 [==============================] - 0s 29us/sample - loss: 0.6810 - acc: 0.5812\n",
      "Epoch 64/100\n",
      "690/690 [==============================] - 0s 29us/sample - loss: 0.6805 - acc: 0.5812\n",
      "Epoch 65/100\n",
      "690/690 [==============================] - 0s 29us/sample - loss: 0.6801 - acc: 0.5812\n",
      "Epoch 66/100\n",
      "690/690 [==============================] - 0s 29us/sample - loss: 0.6797 - acc: 0.5812\n",
      "Epoch 67/100\n",
      "690/690 [==============================] - 0s 27us/sample - loss: 0.6795 - acc: 0.5812\n",
      "Epoch 68/100\n",
      "690/690 [==============================] - 0s 29us/sample - loss: 0.6792 - acc: 0.5826\n",
      "Epoch 69/100\n",
      "690/690 [==============================] - 0s 27us/sample - loss: 0.6792 - acc: 0.5826\n",
      "Epoch 70/100\n",
      "690/690 [==============================] - 0s 29us/sample - loss: 0.6788 - acc: 0.5841\n",
      "Epoch 71/100\n",
      "690/690 [==============================] - 0s 29us/sample - loss: 0.6782 - acc: 0.5841\n",
      "Epoch 72/100\n",
      "690/690 [==============================] - 0s 27us/sample - loss: 0.6778 - acc: 0.5841\n",
      "Epoch 73/100\n",
      "690/690 [==============================] - 0s 29us/sample - loss: 0.6775 - acc: 0.5841\n",
      "Epoch 74/100\n",
      "690/690 [==============================] - 0s 29us/sample - loss: 0.6771 - acc: 0.5841\n",
      "Epoch 75/100\n",
      "690/690 [==============================] - 0s 29us/sample - loss: 0.6768 - acc: 0.5841\n",
      "Epoch 76/100\n",
      "690/690 [==============================] - 0s 27us/sample - loss: 0.6766 - acc: 0.5841\n",
      "Epoch 77/100\n",
      "690/690 [==============================] - 0s 27us/sample - loss: 0.6760 - acc: 0.5826\n",
      "Epoch 78/100\n",
      "690/690 [==============================] - 0s 29us/sample - loss: 0.6757 - acc: 0.5826\n",
      "Epoch 79/100\n",
      "690/690 [==============================] - 0s 30us/sample - loss: 0.6753 - acc: 0.5826\n",
      "Epoch 80/100\n",
      "690/690 [==============================] - 0s 27us/sample - loss: 0.6749 - acc: 0.5826\n",
      "Epoch 81/100\n",
      "690/690 [==============================] - 0s 27us/sample - loss: 0.6745 - acc: 0.5826\n",
      "Epoch 82/100\n"
     ]
    },
    {
     "name": "stdout",
     "output_type": "stream",
     "text": [
      "690/690 [==============================] - 0s 29us/sample - loss: 0.6742 - acc: 0.5826\n",
      "Epoch 83/100\n",
      "690/690 [==============================] - 0s 30us/sample - loss: 0.6739 - acc: 0.5826\n",
      "Epoch 84/100\n",
      "690/690 [==============================] - 0s 30us/sample - loss: 0.6736 - acc: 0.5841\n",
      "Epoch 85/100\n",
      "690/690 [==============================] - 0s 29us/sample - loss: 0.6733 - acc: 0.5826\n",
      "Epoch 86/100\n",
      "690/690 [==============================] - 0s 29us/sample - loss: 0.6729 - acc: 0.5855\n",
      "Epoch 87/100\n",
      "690/690 [==============================] - 0s 29us/sample - loss: 0.6726 - acc: 0.5884\n",
      "Epoch 88/100\n",
      "690/690 [==============================] - 0s 30us/sample - loss: 0.6722 - acc: 0.5884\n",
      "Epoch 89/100\n",
      "690/690 [==============================] - 0s 27us/sample - loss: 0.6714 - acc: 0.5884\n",
      "Epoch 90/100\n",
      "690/690 [==============================] - 0s 28us/sample - loss: 0.6708 - acc: 0.5913\n",
      "Epoch 91/100\n",
      "690/690 [==============================] - 0s 27us/sample - loss: 0.6702 - acc: 0.5899\n",
      "Epoch 92/100\n",
      "690/690 [==============================] - 0s 29us/sample - loss: 0.6698 - acc: 0.5899\n",
      "Epoch 93/100\n",
      "690/690 [==============================] - 0s 29us/sample - loss: 0.6692 - acc: 0.5899\n",
      "Epoch 94/100\n",
      "690/690 [==============================] - 0s 29us/sample - loss: 0.6688 - acc: 0.5928\n",
      "Epoch 95/100\n",
      "690/690 [==============================] - 0s 29us/sample - loss: 0.6685 - acc: 0.5928\n",
      "Epoch 96/100\n",
      "690/690 [==============================] - 0s 30us/sample - loss: 0.6681 - acc: 0.5928\n",
      "Epoch 97/100\n",
      "690/690 [==============================] - 0s 29us/sample - loss: 0.6677 - acc: 0.5928\n",
      "Epoch 98/100\n",
      "690/690 [==============================] - 0s 29us/sample - loss: 0.6674 - acc: 0.5913\n",
      "Epoch 99/100\n",
      "690/690 [==============================] - 0s 29us/sample - loss: 0.6670 - acc: 0.5913\n",
      "Epoch 100/100\n",
      "690/690 [==============================] - 0s 29us/sample - loss: 0.6667 - acc: 0.5913\n"
     ]
    }
   ],
   "source": [
    "history = model.fit(x, y, epochs=100)"
   ]
  },
  {
   "cell_type": "code",
   "execution_count": 13,
   "metadata": {},
   "outputs": [
    {
     "data": {
      "text/plain": [
       "dict_keys(['loss', 'acc'])"
      ]
     },
     "execution_count": 13,
     "metadata": {},
     "output_type": "execute_result"
    }
   ],
   "source": [
    "history.history.keys()"
   ]
  },
  {
   "cell_type": "code",
   "execution_count": 15,
   "metadata": {},
   "outputs": [
    {
     "data": {
      "text/plain": [
       "[<matplotlib.lines.Line2D at 0x1ebd5acdc08>]"
      ]
     },
     "execution_count": 15,
     "metadata": {},
     "output_type": "execute_result"
    },
    {
     "data": {
      "image/png": "[encoded data removed]",
      "text/plain": [
       "<Figure size 432x288 with 1 Axes>"
      ]
     },
     "metadata": {
      "needs_background": "light"
     },
     "output_type": "display_data"
    }
   ],
   "source": [
    "plt.plot(history.epoch, history.history.get('loss'))"
   ]
  },
  {
   "cell_type": "code",
   "execution_count": 16,
   "metadata": {},
   "outputs": [
    {
     "data": {
      "text/plain": [
       "[<matplotlib.lines.Line2D at 0x1ebd4a6e7c8>]"
      ]
     },
     "execution_count": 16,
     "metadata": {},
     "output_type": "execute_result"
    },
    {
     "data": {
      "image/png": "[encoded data removed]",
      "text/plain": [
       "<Figure size 432x288 with 1 Axes>"
      ]
     },
     "metadata": {
      "needs_background": "light"
     },
     "output_type": "display_data"
    }
   ],
   "source": [
    "plt.plot(history.epoch, history.history.get('acc'))"
   ]
  },
  {
   "cell_type": "code",
   "execution_count": null,
   "metadata": {},
   "outputs": [],
   "source": []
  }
 ],
 "metadata": {
  "kernelspec": {
   "display_name": "Python 3",
   "language": "python",
   "name": "python3"
  },
  "language_info": {
   "codemirror_mode": {
    "name": "ipython",
    "version": 3
   },
   "file_extension": ".py",
   "mimetype": "text/x-python",
   "name": "python",
   "nbconvert_exporter": "python",
   "pygments_lexer": "ipython3",
   "version": "3.7.4"
  }
 },
 "nbformat": 4,
 "nbformat_minor": 2
}
