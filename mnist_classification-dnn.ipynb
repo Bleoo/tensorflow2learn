{
 "cells": [
  {
   "cell_type": "code",
   "execution_count": 1,
   "metadata": {},
   "outputs": [
    {
     "name": "stdout",
     "output_type": "stream",
     "text": [
      "sys.version_info(major=3, minor=7, micro=4, releaselevel='final', serial=0)\n",
      "matplotlib 3.1.1\n",
      "numpy 1.16.5\n",
      "pandas 0.25.1\n",
      "sklearn 0.21.3\n",
      "tensorflow 2.1.0\n",
      "tensorflow_core.python.keras.api._v2.keras 2.2.4-tf\n"
     ]
    }
   ],
   "source": [
    "import matplotlib as mpl\n",
    "import matplotlib.pyplot as plt\n",
    "%matplotlib inline\n",
    "import numpy as np\n",
    "import sklearn\n",
    "import pandas as pd\n",
    "import os\n",
    "import sys\n",
    "import time\n",
    "import tensorflow as tf\n",
    "from tensorflow import keras\n",
    "\n",
    "print(sys.version_info)\n",
    "for module in mpl, np, pd, sklearn, tf, keras:\n",
    "    print(module.__name__, module.__version__)\n",
    "    "
   ]
  },
  {
   "cell_type": "code",
   "execution_count": 2,
   "metadata": {},
   "outputs": [
    {
     "name": "stdout",
     "output_type": "stream",
     "text": [
      "(5000, 28, 28) (5000,)\n",
      "(55000, 28, 28) (55000,)\n",
      "(10000, 28, 28) (10000,)\n"
     ]
    }
   ],
   "source": [
    "fashion_mnist = keras.datasets.fashion_mnist\n",
    "(x_train_all, y_train_all), (x_test, y_test) = fashion_mnist.load_data()\n",
    "x_valid, x_train = x_train_all[:5000], x_train_all[5000:]\n",
    "y_valid, y_train = y_train_all[:5000], y_train_all[5000:]\n",
    "\n",
    "print(x_valid.shape, y_valid.shape)\n",
    "print(x_train.shape, y_train.shape)\n",
    "print(x_test.shape, y_test.shape)"
   ]
  },
  {
   "cell_type": "code",
   "execution_count": 3,
   "metadata": {},
   "outputs": [],
   "source": [
    "from sklearn.preprocessing import StandardScaler\n",
    "\n",
    "scaler = StandardScaler()\n",
    "x_train_scaled = scaler.fit_transform(\n",
    "    x_train.astype(np.float32).reshape(-1, 1)\n",
    ").reshape(-1, 28, 28)\n",
    "x_valid_scaled = scaler.fit_transform(\n",
    "    x_valid.astype(np.float32).reshape(-1, 1)\n",
    ").reshape(-1, 28, 28)\n",
    "x_test_scaled = scaler.fit_transform(\n",
    "    x_test.astype(np.float32).reshape(-1, 1)\n",
    ").reshape(-1, 28, 28)"
   ]
  },
  {
   "cell_type": "code",
   "execution_count": 11,
   "metadata": {},
   "outputs": [],
   "source": [
    "model = keras.models.Sequential()\n",
    "model.add(keras.layers.Flatten(input_shape=(28, 28)))\n",
    "for _ in range(20):\n",
    "    model.add(keras.layers.Dense(100, activation='relu'))\n",
    "model.add(keras.layers.Dense(10, activation='softmax'))"
   ]
  },
  {
   "cell_type": "code",
   "execution_count": 12,
   "metadata": {},
   "outputs": [],
   "source": [
    "model.compile(\n",
    "    loss=keras.losses.SparseCategoricalCrossentropy(from_logits=True),\n",
    "    optimizer='sgd',\n",
    "    metrics=['accuracy']\n",
    ")"
   ]
  },
  {
   "cell_type": "code",
   "execution_count": 13,
   "metadata": {},
   "outputs": [],
   "source": [
    "logdir = '.\\dnn-callbacks'\n",
    "if not os.path.exists(logdir):\n",
    "    os.mkdir(logdir)\n",
    "output_model_file = os.path.join(logdir, 'fashion_mnist_model.h5')\n",
    "callbacks = [\n",
    "    keras.callbacks.TensorBoard(logdir),\n",
    "    keras.callbacks.ModelCheckpoint(output_model_file, save_best_only=True),\n",
    "    keras.callbacks.EarlyStopping(patience=5, min_delta=1e-3),\n",
    "]"
   ]
  },
  {
   "cell_type": "code",
   "execution_count": 14,
   "metadata": {},
   "outputs": [
    {
     "name": "stdout",
     "output_type": "stream",
     "text": [
      "Train on 55000 samples, validate on 5000 samples\n",
      "Epoch 1/10\n",
      "55000/55000 [==============================] - 10s 178us/sample - loss: 2.3025 - accuracy: 0.1381 - val_loss: 2.3024 - val_accuracy: 0.1634\n",
      "Epoch 2/10\n",
      "55000/55000 [==============================] - 9s 159us/sample - loss: 2.3023 - accuracy: 0.1860 - val_loss: 2.3022 - val_accuracy: 0.1884\n",
      "Epoch 3/10\n",
      "55000/55000 [==============================] - 9s 161us/sample - loss: 2.3019 - accuracy: 0.2042 - val_loss: 2.3016 - val_accuracy: 0.2082\n",
      "Epoch 4/10\n",
      "55000/55000 [==============================] - 8s 152us/sample - loss: 2.3010 - accuracy: 0.2197 - val_loss: 2.3003 - val_accuracy: 0.2146\n",
      "Epoch 5/10\n",
      "55000/55000 [==============================] - 8s 154us/sample - loss: 2.2989 - accuracy: 0.2263 - val_loss: 2.2970 - val_accuracy: 0.2118\n",
      "Epoch 6/10\n",
      "55000/55000 [==============================] - 8s 151us/sample - loss: 2.2925 - accuracy: 0.2194 - val_loss: 2.2850 - val_accuracy: 0.1980\n",
      "Epoch 7/10\n",
      "55000/55000 [==============================] - 8s 149us/sample - loss: 2.2307 - accuracy: 0.2161 - val_loss: 2.1026 - val_accuracy: 0.3406\n",
      "Epoch 8/10\n",
      "55000/55000 [==============================] - 8s 150us/sample - loss: 2.0319 - accuracy: 0.4273 - val_loss: 1.9754 - val_accuracy: 0.4880\n",
      "Epoch 9/10\n",
      "55000/55000 [==============================] - 8s 151us/sample - loss: 1.9747 - accuracy: 0.4956 - val_loss: 1.7696 - val_accuracy: 0.6944\n",
      "Epoch 10/10\n",
      "55000/55000 [==============================] - 8s 152us/sample - loss: 1.9146 - accuracy: 0.5479 - val_loss: 1.8306 - val_accuracy: 0.6310\n"
     ]
    }
   ],
   "source": [
    "history = model.fit(\n",
    "    x_train_scaled, y_train, \n",
    "    epochs=10, \n",
    "    validation_data=(x_valid_scaled, y_valid),\n",
    "    callbacks=callbacks\n",
    ")"
   ]
  },
  {
   "cell_type": "code",
   "execution_count": 15,
   "metadata": {},
   "outputs": [
    {
     "data": {
      "image/png": "[encoded data removed]",
      "text/plain": [
       "<Figure size 576x360 with 1 Axes>"
      ]
     },
     "metadata": {
      "needs_background": "light"
     },
     "output_type": "display_data"
    }
   ],
   "source": [
    "def plot_learing_curves(history):\n",
    "    pd.DataFrame(history.history).plot(figsize=(8, 5))\n",
    "    plt.grid(True)\n",
    "    plt.gca().set_ylim(0, 3)\n",
    "    plt.show()\n",
    "\n",
    "plot_learing_curves(history)"
   ]
  },
  {
   "cell_type": "code",
   "execution_count": null,
   "metadata": {},
   "outputs": [],
   "source": []
  }
 ],
 "metadata": {
  "kernelspec": {
   "display_name": "Python 3",
   "language": "python",
   "name": "python3"
  },
  "language_info": {
   "codemirror_mode": {
    "name": "ipython",
    "version": 3
   },
   "file_extension": ".py",
   "mimetype": "text/x-python",
   "name": "python",
   "nbconvert_exporter": "python",
   "pygments_lexer": "ipython3",
   "version": "3.7.4"
  }
 },
 "nbformat": 4,
 "nbformat_minor": 2
}
